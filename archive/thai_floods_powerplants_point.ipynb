{
 "cells": [
  {
   "cell_type": "code",
   "execution_count": 1,
   "id": "6feab666-ceac-4d74-8879-f141ef66ace7",
   "metadata": {},
   "outputs": [
    {
     "data": {
      "text/plain": [
       "'\\nIntersect 2011 Thai flood depth raster (courtesy of JBA) with WRI powerplant point locations\\nBallpark estimate of rehabilitation costs...\\n'"
      ]
     },
     "execution_count": 1,
     "metadata": {},
     "output_type": "execute_result"
    }
   ],
   "source": [
    "\"\"\"\n",
    "Intersect 2011 Thai flood depth raster (courtesy of JBA) with WRI powerplant point locations\n",
    "Ballpark estimate of rehabilitation costs...\n",
    "\"\"\""
   ]
  },
  {
   "cell_type": "code",
   "execution_count": 2,
   "id": "8115db54-fd59-4b6c-b87a-3d24717f5c90",
   "metadata": {},
   "outputs": [
    {
     "name": "stderr",
     "output_type": "stream",
     "text": [
      "/home/fred/micromamba/envs/wb_flood/lib/python3.11/site-packages/dask/dataframe/__init__.py:31: FutureWarning: \n",
      "Dask dataframe query planning is disabled because dask-expr is not installed.\n",
      "\n",
      "You can install it with `pip install dask[dataframe]` or `conda install dask`.\n",
      "This will raise in a future version.\n",
      "\n",
      "  warnings.warn(msg, FutureWarning)\n",
      "/home/fred/micromamba/envs/wb_flood/lib/python3.11/site-packages/dask/dataframe/__init__.py:31: FutureWarning: \n",
      "Dask dataframe query planning is disabled because dask-expr is not installed.\n",
      "\n",
      "You can install it with `pip install dask[dataframe]` or `conda install dask`.\n",
      "This will raise in a future version.\n",
      "\n",
      "  warnings.warn(msg, FutureWarning)\n"
     ]
    }
   ],
   "source": [
    "import geopandas as gpd\n",
    "import matplotlib.pyplot as plt\n",
    "import pandas as pd\n",
    "import rasterio\n",
    "import shapely\n",
    "import snail.damages, snail.intersection"
   ]
  },
  {
   "cell_type": "code",
   "execution_count": 3,
   "id": "8aed93ab-c37d-49d3-8e4e-b388d67204d6",
   "metadata": {},
   "outputs": [],
   "source": [
    "raster_path = \"TH_FLRF_ChaoPhraya2011_RD_01.tif\"\n",
    "powerplants_path = \"powerplants.geoparquet\"\n",
    "damage_curve_path = \"damage_curve.csv\""
   ]
  },
  {
   "cell_type": "code",
   "execution_count": 4,
   "id": "7582a9c0-900c-4006-941b-0987240d2547",
   "metadata": {},
   "outputs": [
    {
     "data": {
      "text/plain": [
       "(15836, 8232)"
      ]
     },
     "execution_count": 4,
     "metadata": {},
     "output_type": "execute_result"
    }
   ],
   "source": [
    "raster = rasterio.open(raster_path)\n",
    "grid = snail.intersection.GridDefinition.from_raster(raster_path)\n",
    "minx, miny, maxx, maxy = raster.bounds\n",
    "raster_values = raster.read().squeeze()  # squeeze to drop leading size 1 dim\n",
    "raster_values.shape"
   ]
  },
  {
   "cell_type": "code",
   "execution_count": 5,
   "id": "5243e215-bab5-4e11-973e-aaf83846e4f0",
   "metadata": {},
   "outputs": [],
   "source": [
    "global_pp = gpd.read_parquet(powerplants_path)\n",
    "thai_pp = global_pp.cx[minx: maxx, miny: maxy]"
   ]
  },
  {
   "cell_type": "code",
   "execution_count": 6,
   "id": "a9857232-66b0-4365-847c-d63386bad430",
   "metadata": {},
   "outputs": [],
   "source": [
    "indicies = thai_pp.apply(lambda row: snail.intersection.get_indices(row.geometry, grid), axis=1)\n",
    "depths = snail.intersection.get_raster_values_for_splits(indicies, raster_values)\n",
    "depths = depths[depths > 0]\n",
    "depths.name = \"depth_m\""
   ]
  },
  {
   "cell_type": "code",
   "execution_count": 7,
   "id": "38d73307-9b36-4208-a7d9-c210bbb36a04",
   "metadata": {},
   "outputs": [],
   "source": [
    "curve = snail.damages.PiecewiseLinearDamageCurve.from_csv(\n",
    "    damage_curve_path,\n",
    "    intensity_col=\"depth_m\",\n",
    "    damage_col=\"damage_fraction\"\n",
    ")\n",
    "damages = thai_pp.join(depths, how=\"inner\")\n",
    "damages[\"damage_ratio\"] = curve.damage_fraction(damages.depth_m)"
   ]
  },
  {
   "cell_type": "code",
   "execution_count": 8,
   "id": "c46994e7-6810-4671-9cfe-2ec0b6c63432",
   "metadata": {},
   "outputs": [
    {
     "data": {
      "text/html": [
       "<div>\n",
       "<style scoped>\n",
       "    .dataframe tbody tr th:only-of-type {\n",
       "        vertical-align: middle;\n",
       "    }\n",
       "\n",
       "    .dataframe tbody tr th {\n",
       "        vertical-align: top;\n",
       "    }\n",
       "\n",
       "    .dataframe thead th {\n",
       "        text-align: right;\n",
       "    }\n",
       "</style>\n",
       "<table border=\"1\" class=\"dataframe\">\n",
       "  <thead>\n",
       "    <tr style=\"text-align: right;\">\n",
       "      <th></th>\n",
       "      <th>name</th>\n",
       "      <th>source_id</th>\n",
       "      <th>power_mw</th>\n",
       "      <th>primary_fuel</th>\n",
       "      <th>estimated_generation_gwh_2017</th>\n",
       "      <th>asset_type</th>\n",
       "      <th>geometry</th>\n",
       "      <th>depth_m</th>\n",
       "      <th>damage_ratio</th>\n",
       "    </tr>\n",
       "  </thead>\n",
       "  <tbody>\n",
       "    <tr>\n",
       "      <th>21455</th>\n",
       "      <td>Ang Thong Solar Power Plant</td>\n",
       "      <td>WRI1026223</td>\n",
       "      <td>1.2</td>\n",
       "      <td>Solar</td>\n",
       "      <td>1.94</td>\n",
       "      <td>source</td>\n",
       "      <td>POINT (100.47610 14.58940)</td>\n",
       "      <td>4.159156</td>\n",
       "      <td>0.300000</td>\n",
       "    </tr>\n",
       "    <tr>\n",
       "      <th>21557</th>\n",
       "      <td>Nakhon Sawan Solar Power Plant</td>\n",
       "      <td>WRI1026244</td>\n",
       "      <td>1.0</td>\n",
       "      <td>Solar</td>\n",
       "      <td>1.81</td>\n",
       "      <td>source</td>\n",
       "      <td>POINT (100.11860 15.73860)</td>\n",
       "      <td>3.302053</td>\n",
       "      <td>0.300000</td>\n",
       "    </tr>\n",
       "    <tr>\n",
       "      <th>21486</th>\n",
       "      <td>EGCO Cogen</td>\n",
       "      <td>WRI1019467</td>\n",
       "      <td>112.0</td>\n",
       "      <td>Gas</td>\n",
       "      <td>489.78</td>\n",
       "      <td>source</td>\n",
       "      <td>POINT (100.57270 14.09770)</td>\n",
       "      <td>3.963405</td>\n",
       "      <td>0.300000</td>\n",
       "    </tr>\n",
       "    <tr>\n",
       "      <th>21591</th>\n",
       "      <td>Sai Prapa Solar Power Plant</td>\n",
       "      <td>WRI1026303</td>\n",
       "      <td>7.2</td>\n",
       "      <td>Solar</td>\n",
       "      <td>13.18</td>\n",
       "      <td>source</td>\n",
       "      <td>POINT (100.20020 13.99990)</td>\n",
       "      <td>2.566649</td>\n",
       "      <td>0.210332</td>\n",
       "    </tr>\n",
       "    <tr>\n",
       "      <th>21639</th>\n",
       "      <td>Wang Luek Solar Power Plant</td>\n",
       "      <td>WRI1026334</td>\n",
       "      <td>8.0</td>\n",
       "      <td>Solar</td>\n",
       "      <td>14.24</td>\n",
       "      <td>source</td>\n",
       "      <td>POINT (100.13310 14.73910)</td>\n",
       "      <td>2.131103</td>\n",
       "      <td>0.174488</td>\n",
       "    </tr>\n",
       "  </tbody>\n",
       "</table>\n",
       "</div>"
      ],
      "text/plain": [
       "                                 name   source_id  power_mw primary_fuel  \\\n",
       "21455     Ang Thong Solar Power Plant  WRI1026223       1.2        Solar   \n",
       "21557  Nakhon Sawan Solar Power Plant  WRI1026244       1.0        Solar   \n",
       "21486                      EGCO Cogen  WRI1019467     112.0          Gas   \n",
       "21591     Sai Prapa Solar Power Plant  WRI1026303       7.2        Solar   \n",
       "21639     Wang Luek Solar Power Plant  WRI1026334       8.0        Solar   \n",
       "\n",
       "       estimated_generation_gwh_2017 asset_type                    geometry  \\\n",
       "21455                           1.94     source  POINT (100.47610 14.58940)   \n",
       "21557                           1.81     source  POINT (100.11860 15.73860)   \n",
       "21486                         489.78     source  POINT (100.57270 14.09770)   \n",
       "21591                          13.18     source  POINT (100.20020 13.99990)   \n",
       "21639                          14.24     source  POINT (100.13310 14.73910)   \n",
       "\n",
       "        depth_m  damage_ratio  \n",
       "21455  4.159156      0.300000  \n",
       "21557  3.302053      0.300000  \n",
       "21486  3.963405      0.300000  \n",
       "21591  2.566649      0.210332  \n",
       "21639  2.131103      0.174488  "
      ]
     },
     "execution_count": 8,
     "metadata": {},
     "output_type": "execute_result"
    }
   ],
   "source": [
    "# top plants by damage\n",
    "# only EGCO Cogen is of any meaningful size\n",
    "damages.sort_values(\"damage_ratio\", ascending=False).head()\n",
    "\n",
    "# https://www.gfdrr.org/sites/default/files/publication/Thai_Flood_2011_2.pdf\n",
    "# page 120:\n",
    "# ... The privately owned 280MW combined-cycle power plant in Rojana Industrial Park was flooded in the\n",
    "# third week of October and remained flooded at the time of the team’s field visit on 15 November, 2011.\n",
    "# ... the damage to the Rojana power plant is estimated at THB 2.4 billion.\n",
    "# \n",
    "# FYI that's about $65M\n",
    "# however... the JBA flood map does not show flooding of the facility, so no damage for us..."
   ]
  },
  {
   "cell_type": "code",
   "execution_count": 9,
   "id": "03bbd609-e97f-4011-8983-a42b4fbd5820",
   "metadata": {},
   "outputs": [],
   "source": [
    "# EGCO Cogen plant has 112MW capacity\n",
    "# what's a reconstruction cost estimate for the flooding there?\n",
    "\n",
    "# US power plant construction costs\n",
    "# https://www.eia.gov/electricity/generatorcosts/xls/generator_costs_2021.xlsx\n",
    "# 920 [USD 2021] / capacity [kW]\n",
    "# 920000 [USD 2021] / capacity [MW]\n",
    "\n",
    "gas_cost_per_mw = 920000\n",
    "\n",
    "gas = damages[damages.primary_fuel == \"Gas\"].copy()\n",
    "gas[\"rehab_cost\"] = gas.damage_ratio * gas_cost_per_mw * gas.power_mw\n",
    "\n",
    "# ~$300k with extremely low confidence :) "
   ]
  },
  {
   "cell_type": "code",
   "execution_count": 11,
   "id": "284a036c-7c3f-4c70-ba03-ecc34670a353",
   "metadata": {},
   "outputs": [
    {
     "data": {
      "text/html": [
       "<div>\n",
       "<style scoped>\n",
       "    .dataframe tbody tr th:only-of-type {\n",
       "        vertical-align: middle;\n",
       "    }\n",
       "\n",
       "    .dataframe tbody tr th {\n",
       "        vertical-align: top;\n",
       "    }\n",
       "\n",
       "    .dataframe thead th {\n",
       "        text-align: right;\n",
       "    }\n",
       "</style>\n",
       "<table border=\"1\" class=\"dataframe\">\n",
       "  <thead>\n",
       "    <tr style=\"text-align: right;\">\n",
       "      <th></th>\n",
       "      <th>name</th>\n",
       "      <th>source_id</th>\n",
       "      <th>power_mw</th>\n",
       "      <th>primary_fuel</th>\n",
       "      <th>estimated_generation_gwh_2017</th>\n",
       "      <th>asset_type</th>\n",
       "      <th>geometry</th>\n",
       "      <th>depth_m</th>\n",
       "      <th>damage_ratio</th>\n",
       "      <th>rehab_cost</th>\n",
       "    </tr>\n",
       "  </thead>\n",
       "  <tbody>\n",
       "    <tr>\n",
       "      <th>21486</th>\n",
       "      <td>EGCO Cogen</td>\n",
       "      <td>WRI1019467</td>\n",
       "      <td>112.0</td>\n",
       "      <td>Gas</td>\n",
       "      <td>489.78</td>\n",
       "      <td>source</td>\n",
       "      <td>POINT (100.57270 14.09770)</td>\n",
       "      <td>3.963405</td>\n",
       "      <td>0.300000</td>\n",
       "      <td>3.091200e+07</td>\n",
       "    </tr>\n",
       "    <tr>\n",
       "      <th>21462</th>\n",
       "      <td>Bang Bo</td>\n",
       "      <td>WRI1019483</td>\n",
       "      <td>350.0</td>\n",
       "      <td>Gas</td>\n",
       "      <td>1530.58</td>\n",
       "      <td>source</td>\n",
       "      <td>POINT (100.84160 13.49200)</td>\n",
       "      <td>0.871847</td>\n",
       "      <td>0.071748</td>\n",
       "      <td>2.310277e+07</td>\n",
       "    </tr>\n",
       "    <tr>\n",
       "      <th>21456</th>\n",
       "      <td>B Grimm BIP</td>\n",
       "      <td>WRI1019488</td>\n",
       "      <td>230.0</td>\n",
       "      <td>Gas</td>\n",
       "      <td>1005.81</td>\n",
       "      <td>source</td>\n",
       "      <td>POINT (100.56490 13.97450)</td>\n",
       "      <td>0.148729</td>\n",
       "      <td>0.011898</td>\n",
       "      <td>2.517682e+06</td>\n",
       "    </tr>\n",
       "  </tbody>\n",
       "</table>\n",
       "</div>"
      ],
      "text/plain": [
       "              name   source_id  power_mw primary_fuel  \\\n",
       "21486   EGCO Cogen  WRI1019467     112.0          Gas   \n",
       "21462      Bang Bo  WRI1019483     350.0          Gas   \n",
       "21456  B Grimm BIP  WRI1019488     230.0          Gas   \n",
       "\n",
       "       estimated_generation_gwh_2017 asset_type                    geometry  \\\n",
       "21486                         489.78     source  POINT (100.57270 14.09770)   \n",
       "21462                        1530.58     source  POINT (100.84160 13.49200)   \n",
       "21456                        1005.81     source  POINT (100.56490 13.97450)   \n",
       "\n",
       "        depth_m  damage_ratio    rehab_cost  \n",
       "21486  3.963405      0.300000  3.091200e+07  \n",
       "21462  0.871847      0.071748  2.310277e+07  \n",
       "21456  0.148729      0.011898  2.517682e+06  "
      ]
     },
     "execution_count": 11,
     "metadata": {},
     "output_type": "execute_result"
    }
   ],
   "source": [
    "gas.sort_values(\"rehab_cost\", ascending=False)"
   ]
  }
 ],
 "metadata": {
  "kernelspec": {
   "display_name": "Python 3 (ipykernel)",
   "language": "python",
   "name": "python3"
  },
  "language_info": {
   "codemirror_mode": {
    "name": "ipython",
    "version": 3
   },
   "file_extension": ".py",
   "mimetype": "text/x-python",
   "name": "python",
   "nbconvert_exporter": "python",
   "pygments_lexer": "ipython3",
   "version": "3.11.8"
  }
 },
 "nbformat": 4,
 "nbformat_minor": 5
}
